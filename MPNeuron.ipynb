{
 "cells": [
  {
   "cell_type": "code",
   "execution_count": 1,
   "id": "aa7be1cf",
   "metadata": {},
   "outputs": [
    {
     "name": "stdout",
     "output_type": "stream",
     "text": [
      "MPNeuron([0, 0]) = 0\n",
      "MPNeuron([0, 1]) = 0\n",
      "MPNeuron([1, 0]) = 0\n",
      "MPNeuron([1, 1]) = 1\n",
      "MPNeuron([0, 0]) = 0\n",
      "MPNeuron([0, 1]) = 1\n",
      "MPNeuron([1, 0]) = 1\n",
      "MPNeuron([1, 1]) = 1\n",
      "MPNeuron([0]) = 1\n",
      "MPNeuron([1]) = 0\n"
     ]
    }
   ],
   "source": [
    "class MPNeuron:\n",
    "    def __init__(self, weights, threshold):\n",
    "        self.weights = weights\n",
    "        self.threshold = threshold\n",
    "\n",
    "    def activate(self, inputs):\n",
    "        # Check if the weighted sum of inputs exceeds the threshold\n",
    "        weighted_sum = sum(w * x for w, x in zip(self.weights, inputs))\n",
    "        return 1 if weighted_sum >= self.threshold else 0\n",
    "\n",
    "\n",
    "# AND gate\n",
    "and_gate = MPNeuron(weights=[1, 1], threshold=2)\n",
    "\n",
    "# OR gate\n",
    "or_gate = MPNeuron(weights=[1, 1], threshold=1)\n",
    "\n",
    "# NOT gate\n",
    "not_gate = MPNeuron(weights=[-1], threshold=0)\n",
    "\n",
    "# Test the gates\n",
    "def test_gate(gate, inputs):\n",
    "    output = gate.activate(inputs)\n",
    "    print(f\"{gate.__class__.__name__}({inputs}) = {output}\")\n",
    "\n",
    "# Testing AND gate\n",
    "test_gate(and_gate, [0, 0])\n",
    "test_gate(and_gate, [0, 1])\n",
    "test_gate(and_gate, [1, 0])\n",
    "test_gate(and_gate, [1, 1])\n",
    "\n",
    "# Testing OR gate\n",
    "test_gate(or_gate, [0, 0])\n",
    "test_gate(or_gate, [0, 1])\n",
    "test_gate(or_gate, [1, 0])\n",
    "test_gate(or_gate, [1, 1])\n",
    "\n",
    "# Testing NOT gate\n",
    "test_gate(not_gate, [0])\n",
    "test_gate(not_gate, [1])\n"
   ]
  },
  {
   "cell_type": "code",
   "execution_count": null,
   "id": "492f0c1a",
   "metadata": {},
   "outputs": [],
   "source": []
  }
 ],
 "metadata": {
  "kernelspec": {
   "display_name": "Python 3 (ipykernel)",
   "language": "python",
   "name": "python3"
  },
  "language_info": {
   "codemirror_mode": {
    "name": "ipython",
    "version": 3
   },
   "file_extension": ".py",
   "mimetype": "text/x-python",
   "name": "python",
   "nbconvert_exporter": "python",
   "pygments_lexer": "ipython3",
   "version": "3.11.5"
  }
 },
 "nbformat": 4,
 "nbformat_minor": 5
}
